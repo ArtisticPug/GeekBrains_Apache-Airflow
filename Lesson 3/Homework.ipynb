{
 "cells": [
  {
   "cell_type": "markdown",
   "id": "appointed-zambia",
   "metadata": {},
   "source": [
    "Скриншоты:"
   ]
  },
  {
   "cell_type": "markdown",
   "id": "liberal-steal",
   "metadata": {},
   "source": [
    "<img src=\"homework_images/1.png\"> "
   ]
  },
  {
   "cell_type": "markdown",
   "id": "educated-spanish",
   "metadata": {},
   "source": [
    "<img src=\"homework_images/2.png\"> "
   ]
  },
  {
   "cell_type": "markdown",
   "id": "floating-portland",
   "metadata": {},
   "source": [
    "<img src=\"homework_images/3.png\"> "
   ]
  },
  {
   "cell_type": "markdown",
   "id": "legendary-indianapolis",
   "metadata": {},
   "source": [
    "<img src=\"homework_images/4.png\"> "
   ]
  },
  {
   "cell_type": "markdown",
   "id": "varying-brazilian",
   "metadata": {},
   "source": [
    "<img src=\"homework_images/5.png\"> "
   ]
  },
  {
   "cell_type": "code",
   "execution_count": null,
   "id": "embedded-daisy",
   "metadata": {},
   "outputs": [],
   "source": []
  }
 ],
 "metadata": {
  "kernelspec": {
   "display_name": "Python 3",
   "language": "python",
   "name": "python3"
  },
  "language_info": {
   "codemirror_mode": {
    "name": "ipython",
    "version": 3
   },
   "file_extension": ".py",
   "mimetype": "text/x-python",
   "name": "python",
   "nbconvert_exporter": "python",
   "pygments_lexer": "ipython3",
   "version": "3.8.8"
  }
 },
 "nbformat": 4,
 "nbformat_minor": 5
}
